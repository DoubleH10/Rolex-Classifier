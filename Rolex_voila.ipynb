{
  "nbformat": 4,
  "nbformat_minor": 0,
  "metadata": {
    "colab": {
      "name": "Rolex_voila.ipynb",
      "provenance": [],
      "authorship_tag": "ABX9TyPh8r7CxFvg60nCYCUHC3EM",
      "include_colab_link": true
    },
    "kernelspec": {
      "name": "python3",
      "display_name": "Python 3"
    },
    "language_info": {
      "name": "python"
    },
    "widgets": {
      "application/vnd.jupyter.widget-state+json": {
        "2e96f2012ac443eaba8ff6b134d424e9": {
          "model_module": "@jupyter-widgets/controls",
          "model_name": "VBoxModel",
          "model_module_version": "1.5.0",
          "state": {
            "_view_name": "VBoxView",
            "_dom_classes": [],
            "_model_name": "VBoxModel",
            "_view_module": "@jupyter-widgets/controls",
            "_model_module_version": "1.5.0",
            "_view_count": null,
            "_view_module_version": "1.5.0",
            "box_style": "",
            "layout": "IPY_MODEL_a6c0f933d74547acb83f2822c7b5ea5a",
            "_model_module": "@jupyter-widgets/controls",
            "children": [
              "IPY_MODEL_909632b3553140859d1cf5a4039894f2",
              "IPY_MODEL_07afb3542f18486bb124a2e543a2417b",
              "IPY_MODEL_2eb69f74715648f88a65b16351cf5e73",
              "IPY_MODEL_e4b02d4236f94be1b41fca531002828a"
            ]
          }
        },
        "a6c0f933d74547acb83f2822c7b5ea5a": {
          "model_module": "@jupyter-widgets/base",
          "model_name": "LayoutModel",
          "model_module_version": "1.2.0",
          "state": {
            "_view_name": "LayoutView",
            "grid_template_rows": null,
            "right": null,
            "justify_content": null,
            "_view_module": "@jupyter-widgets/base",
            "overflow": null,
            "_model_module_version": "1.2.0",
            "_view_count": null,
            "flex_flow": null,
            "width": null,
            "min_width": null,
            "border": null,
            "align_items": null,
            "bottom": null,
            "_model_module": "@jupyter-widgets/base",
            "top": null,
            "grid_column": null,
            "overflow_y": null,
            "overflow_x": null,
            "grid_auto_flow": null,
            "grid_area": null,
            "grid_template_columns": null,
            "flex": null,
            "_model_name": "LayoutModel",
            "justify_items": null,
            "grid_row": null,
            "max_height": null,
            "align_content": null,
            "visibility": null,
            "align_self": null,
            "height": null,
            "min_height": null,
            "padding": null,
            "grid_auto_rows": null,
            "grid_gap": null,
            "max_width": null,
            "order": null,
            "_view_module_version": "1.2.0",
            "grid_template_areas": null,
            "object_position": null,
            "object_fit": null,
            "grid_auto_columns": null,
            "margin": null,
            "display": null,
            "left": null
          }
        },
        "909632b3553140859d1cf5a4039894f2": {
          "model_module": "@jupyter-widgets/controls",
          "model_name": "LabelModel",
          "model_module_version": "1.5.0",
          "state": {
            "_view_name": "LabelView",
            "style": "IPY_MODEL_0330bcdfb8e34b6bab9a31d6f59379ed",
            "_dom_classes": [],
            "description": "",
            "_model_name": "LabelModel",
            "placeholder": "​",
            "_view_module": "@jupyter-widgets/controls",
            "_model_module_version": "1.5.0",
            "value": "Select your Rolex!",
            "_view_count": null,
            "_view_module_version": "1.5.0",
            "description_tooltip": null,
            "_model_module": "@jupyter-widgets/controls",
            "layout": "IPY_MODEL_a4e8fa6743454e068222eb3728b64953"
          }
        },
        "07afb3542f18486bb124a2e543a2417b": {
          "model_module": "@jupyter-widgets/controls",
          "model_name": "FileUploadModel",
          "model_module_version": "1.5.0",
          "state": {
            "_view_name": "FileUploadView",
            "_counter": 2,
            "style": "IPY_MODEL_42411bd89cc0492f8309bb06396896aa",
            "_dom_classes": [],
            "description": "Upload",
            "multiple": false,
            "_model_name": "FileUploadModel",
            "data": [
              null
            ],
            "button_style": "",
            "_view_module": "@jupyter-widgets/controls",
            "_model_module_version": "1.5.0",
            "accept": "",
            "_view_count": null,
            "disabled": false,
            "_view_module_version": "1.5.0",
            "error": "",
            "description_tooltip": null,
            "metadata": [
              {
                "name": "Rolex-Sydweller-Blue-2_800x.png",
                "type": "image/png",
                "size": 1159337,
                "lastModified": 1641648578000
              }
            ],
            "_model_module": "@jupyter-widgets/controls",
            "layout": "IPY_MODEL_69bc241854bb40a485900cbae5cd092b",
            "icon": "upload"
          }
        },
        "2eb69f74715648f88a65b16351cf5e73": {
          "model_module": "@jupyter-widgets/output",
          "model_name": "OutputModel",
          "model_module_version": "1.0.0",
          "state": {
            "_view_name": "OutputView",
            "msg_id": "",
            "_dom_classes": [],
            "_model_name": "OutputModel",
            "outputs": [
              {
                "output_type": "display_data",
                "data": {
                  "image/png": "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\n",
                  "text/plain": "<PIL.Image.Image image mode=RGB size=128x128 at 0x7FDC7B607DD0>"
                },
                "metadata": {}
              }
            ],
            "_view_module": "@jupyter-widgets/output",
            "_model_module_version": "1.0.0",
            "_view_count": null,
            "_view_module_version": "1.0.0",
            "layout": "IPY_MODEL_07ebf9d1183b422b88270425d129bbbd",
            "_model_module": "@jupyter-widgets/output"
          }
        },
        "e4b02d4236f94be1b41fca531002828a": {
          "model_module": "@jupyter-widgets/controls",
          "model_name": "LabelModel",
          "model_module_version": "1.5.0",
          "state": {
            "_view_name": "LabelView",
            "style": "IPY_MODEL_d82026b21eef4a409d31a97b6ef34cfc",
            "_dom_classes": [],
            "description": "",
            "_model_name": "LabelModel",
            "placeholder": "​",
            "_view_module": "@jupyter-widgets/controls",
            "_model_module_version": "1.5.0",
            "value": "Prediction: Sky-dweller; Probability: 0.9999",
            "_view_count": null,
            "_view_module_version": "1.5.0",
            "description_tooltip": null,
            "_model_module": "@jupyter-widgets/controls",
            "layout": "IPY_MODEL_1a9186a003a04af28213a764d8d03e25"
          }
        },
        "0330bcdfb8e34b6bab9a31d6f59379ed": {
          "model_module": "@jupyter-widgets/controls",
          "model_name": "DescriptionStyleModel",
          "model_module_version": "1.5.0",
          "state": {
            "_view_name": "StyleView",
            "_model_name": "DescriptionStyleModel",
            "description_width": "",
            "_view_module": "@jupyter-widgets/base",
            "_model_module_version": "1.5.0",
            "_view_count": null,
            "_view_module_version": "1.2.0",
            "_model_module": "@jupyter-widgets/controls"
          }
        },
        "a4e8fa6743454e068222eb3728b64953": {
          "model_module": "@jupyter-widgets/base",
          "model_name": "LayoutModel",
          "model_module_version": "1.2.0",
          "state": {
            "_view_name": "LayoutView",
            "grid_template_rows": null,
            "right": null,
            "justify_content": null,
            "_view_module": "@jupyter-widgets/base",
            "overflow": null,
            "_model_module_version": "1.2.0",
            "_view_count": null,
            "flex_flow": null,
            "width": null,
            "min_width": null,
            "border": null,
            "align_items": null,
            "bottom": null,
            "_model_module": "@jupyter-widgets/base",
            "top": null,
            "grid_column": null,
            "overflow_y": null,
            "overflow_x": null,
            "grid_auto_flow": null,
            "grid_area": null,
            "grid_template_columns": null,
            "flex": null,
            "_model_name": "LayoutModel",
            "justify_items": null,
            "grid_row": null,
            "max_height": null,
            "align_content": null,
            "visibility": null,
            "align_self": null,
            "height": null,
            "min_height": null,
            "padding": null,
            "grid_auto_rows": null,
            "grid_gap": null,
            "max_width": null,
            "order": null,
            "_view_module_version": "1.2.0",
            "grid_template_areas": null,
            "object_position": null,
            "object_fit": null,
            "grid_auto_columns": null,
            "margin": null,
            "display": null,
            "left": null
          }
        },
        "42411bd89cc0492f8309bb06396896aa": {
          "model_module": "@jupyter-widgets/controls",
          "model_name": "ButtonStyleModel",
          "model_module_version": "1.5.0",
          "state": {
            "_view_name": "StyleView",
            "_model_name": "ButtonStyleModel",
            "_view_module": "@jupyter-widgets/base",
            "_model_module_version": "1.5.0",
            "_view_count": null,
            "button_color": null,
            "font_weight": "",
            "_view_module_version": "1.2.0",
            "_model_module": "@jupyter-widgets/controls"
          }
        },
        "69bc241854bb40a485900cbae5cd092b": {
          "model_module": "@jupyter-widgets/base",
          "model_name": "LayoutModel",
          "model_module_version": "1.2.0",
          "state": {
            "_view_name": "LayoutView",
            "grid_template_rows": null,
            "right": null,
            "justify_content": null,
            "_view_module": "@jupyter-widgets/base",
            "overflow": null,
            "_model_module_version": "1.2.0",
            "_view_count": null,
            "flex_flow": null,
            "width": null,
            "min_width": null,
            "border": null,
            "align_items": null,
            "bottom": null,
            "_model_module": "@jupyter-widgets/base",
            "top": null,
            "grid_column": null,
            "overflow_y": null,
            "overflow_x": null,
            "grid_auto_flow": null,
            "grid_area": null,
            "grid_template_columns": null,
            "flex": null,
            "_model_name": "LayoutModel",
            "justify_items": null,
            "grid_row": null,
            "max_height": null,
            "align_content": null,
            "visibility": null,
            "align_self": null,
            "height": null,
            "min_height": null,
            "padding": null,
            "grid_auto_rows": null,
            "grid_gap": null,
            "max_width": null,
            "order": null,
            "_view_module_version": "1.2.0",
            "grid_template_areas": null,
            "object_position": null,
            "object_fit": null,
            "grid_auto_columns": null,
            "margin": null,
            "display": null,
            "left": null
          }
        },
        "d82026b21eef4a409d31a97b6ef34cfc": {
          "model_module": "@jupyter-widgets/controls",
          "model_name": "DescriptionStyleModel",
          "model_module_version": "1.5.0",
          "state": {
            "_view_name": "StyleView",
            "_model_name": "DescriptionStyleModel",
            "description_width": "",
            "_view_module": "@jupyter-widgets/base",
            "_model_module_version": "1.5.0",
            "_view_count": null,
            "_view_module_version": "1.2.0",
            "_model_module": "@jupyter-widgets/controls"
          }
        },
        "1a9186a003a04af28213a764d8d03e25": {
          "model_module": "@jupyter-widgets/base",
          "model_name": "LayoutModel",
          "model_module_version": "1.2.0",
          "state": {
            "_view_name": "LayoutView",
            "grid_template_rows": null,
            "right": null,
            "justify_content": null,
            "_view_module": "@jupyter-widgets/base",
            "overflow": null,
            "_model_module_version": "1.2.0",
            "_view_count": null,
            "flex_flow": null,
            "width": null,
            "min_width": null,
            "border": null,
            "align_items": null,
            "bottom": null,
            "_model_module": "@jupyter-widgets/base",
            "top": null,
            "grid_column": null,
            "overflow_y": null,
            "overflow_x": null,
            "grid_auto_flow": null,
            "grid_area": null,
            "grid_template_columns": null,
            "flex": null,
            "_model_name": "LayoutModel",
            "justify_items": null,
            "grid_row": null,
            "max_height": null,
            "align_content": null,
            "visibility": null,
            "align_self": null,
            "height": null,
            "min_height": null,
            "padding": null,
            "grid_auto_rows": null,
            "grid_gap": null,
            "max_width": null,
            "order": null,
            "_view_module_version": "1.2.0",
            "grid_template_areas": null,
            "object_position": null,
            "object_fit": null,
            "grid_auto_columns": null,
            "margin": null,
            "display": null,
            "left": null
          }
        },
        "07ebf9d1183b422b88270425d129bbbd": {
          "model_module": "@jupyter-widgets/base",
          "model_name": "LayoutModel",
          "model_module_version": "1.2.0",
          "state": {
            "_view_name": "LayoutView",
            "grid_template_rows": null,
            "right": null,
            "justify_content": null,
            "_view_module": "@jupyter-widgets/base",
            "overflow": null,
            "_model_module_version": "1.2.0",
            "_view_count": null,
            "flex_flow": null,
            "width": null,
            "min_width": null,
            "border": null,
            "align_items": null,
            "bottom": null,
            "_model_module": "@jupyter-widgets/base",
            "top": null,
            "grid_column": null,
            "overflow_y": null,
            "overflow_x": null,
            "grid_auto_flow": null,
            "grid_area": null,
            "grid_template_columns": null,
            "flex": null,
            "_model_name": "LayoutModel",
            "justify_items": null,
            "grid_row": null,
            "max_height": null,
            "align_content": null,
            "visibility": null,
            "align_self": null,
            "height": null,
            "min_height": null,
            "padding": null,
            "grid_auto_rows": null,
            "grid_gap": null,
            "max_width": null,
            "order": null,
            "_view_module_version": "1.2.0",
            "grid_template_areas": null,
            "object_position": null,
            "object_fit": null,
            "grid_auto_columns": null,
            "margin": null,
            "display": null,
            "left": null
          }
        }
      }
    }
  },
  "cells": [
    {
      "cell_type": "markdown",
      "metadata": {
        "id": "view-in-github",
        "colab_type": "text"
      },
      "source": [
        "<a href=\"https://colab.research.google.com/github/DoubleH10/Rolex-Classifier/blob/main/Rolex_voila.ipynb\" target=\"_parent\"><img src=\"https://colab.research.google.com/assets/colab-badge.svg\" alt=\"Open In Colab\"/></a>"
      ]
    },
    {
      "cell_type": "code",
      "execution_count": 2,
      "metadata": {
        "id": "QHEFecbUwCUb",
        "outputId": "f53f20b9-d380-48e6-c094-6b46d775f35e",
        "colab": {
          "base_uri": "https://localhost:8080/"
        }
      },
      "outputs": [
        {
          "output_type": "stream",
          "name": "stdout",
          "text": [
            "\u001b[K     |████████████████████████████████| 720 kB 4.5 MB/s \n",
            "\u001b[K     |████████████████████████████████| 46 kB 4.5 MB/s \n",
            "\u001b[K     |████████████████████████████████| 1.2 MB 50.0 MB/s \n",
            "\u001b[K     |████████████████████████████████| 189 kB 75.3 MB/s \n",
            "\u001b[K     |████████████████████████████████| 56 kB 4.6 MB/s \n",
            "\u001b[K     |████████████████████████████████| 51 kB 283 kB/s \n",
            "\u001b[?25hMounted at /content/gdrive\n"
          ]
        }
      ],
      "source": [
        "!pip install -Uqq fastbook\n",
        "import fastbook\n",
        "fastbook.setup_book()"
      ]
    },
    {
      "cell_type": "code",
      "source": [
        "from fastai.vision.all import *\n",
        "from fastai.vision.widgets import *"
      ],
      "metadata": {
        "id": "b4uCN-8gwGPW"
      },
      "execution_count": 4,
      "outputs": []
    },
    {
      "cell_type": "markdown",
      "source": [
        "## **ROLEX CLASSIFIER!**\n",
        "\n",
        "Wheather you are alone in a watch store with no help whatsoever or you were lucky enogh to receive a Rolex as a gift and do not know what model you have at your disposal. This website has got you covered. Just take a picture of the watch in question and click 'upload' to classifiy it. (Important: Here we are only giving away the name of Rolex models and therefore the code would not work for watches from other brands)."
      ],
      "metadata": {
        "id": "mnZPVVvM0TQ1"
      }
    },
    {
      "cell_type": "code",
      "source": [
        "import bz2\n",
        "import pickle\n",
        "import _pickle as cPickle\n",
        "\n",
        "def decompress_pickle(file):\n",
        " data = bz2.BZ2File(file, 'rb')\n",
        " data = cPickle.load(data)\n",
        " return data\n",
        "\n",
        "path = Path()\n",
        "data = decompress_pickle(path/'Rolex.pbz2')"
      ],
      "metadata": {
        "id": "fzlxfZhxxhk0"
      },
      "execution_count": 10,
      "outputs": []
    },
    {
      "cell_type": "code",
      "source": [
        "learn_inf = load_learner(data, cpu=True)\n",
        "btn_upload = widgets.FileUpload()\n",
        "out_pl = widgets.Output()\n",
        "lbl_pred = widgets.Label()"
      ],
      "metadata": {
        "id": "AE12FiW-wv0F"
      },
      "execution_count": 14,
      "outputs": []
    },
    {
      "cell_type": "code",
      "source": [
        "def on_click(change):\n",
        "  img = PILImage.create(btn_upload.data[-1])\n",
        "  out_pl.clear_output()\n",
        "  with out_pl: display(img.to_thumb(128,128))\n",
        "  pred, pred_idx, prob = learn_inf.predict(img)\n",
        "  lbl_pred.value = f'Prediction: {pred}; Probability: {prob[pred_idx]:.04f}'"
      ],
      "metadata": {
        "id": "OS8aiDskxDHt"
      },
      "execution_count": 12,
      "outputs": []
    },
    {
      "cell_type": "code",
      "source": [
        "btn_upload.observe(on_click, names=['data'])"
      ],
      "metadata": {
        "id": "2G6uqChVzd2S"
      },
      "execution_count": 16,
      "outputs": []
    },
    {
      "cell_type": "code",
      "source": [
        "display(VBox([widgets.Label('Select your Rolex!'), btn_upload, out_pl, lbl_pred]))"
      ],
      "metadata": {
        "colab": {
          "base_uri": "https://localhost:8080/",
          "height": 241,
          "referenced_widgets": [
            "2e96f2012ac443eaba8ff6b134d424e9",
            "a6c0f933d74547acb83f2822c7b5ea5a",
            "909632b3553140859d1cf5a4039894f2",
            "07afb3542f18486bb124a2e543a2417b",
            "2eb69f74715648f88a65b16351cf5e73",
            "e4b02d4236f94be1b41fca531002828a",
            "0330bcdfb8e34b6bab9a31d6f59379ed",
            "a4e8fa6743454e068222eb3728b64953",
            "42411bd89cc0492f8309bb06396896aa",
            "69bc241854bb40a485900cbae5cd092b",
            "d82026b21eef4a409d31a97b6ef34cfc",
            "1a9186a003a04af28213a764d8d03e25",
            "07ebf9d1183b422b88270425d129bbbd"
          ]
        },
        "id": "rmVQnu_HzlzG",
        "outputId": "4dcb6c08-8f36-44f7-c441-1d226dfd3529"
      },
      "execution_count": 17,
      "outputs": [
        {
          "output_type": "display_data",
          "data": {
            "application/vnd.jupyter.widget-view+json": {
              "model_id": "2e96f2012ac443eaba8ff6b134d424e9",
              "version_minor": 0,
              "version_major": 2
            },
            "text/plain": [
              "VBox(children=(Label(value='Select your Rolex!'), FileUpload(value={}, description='Upload'), Output(), Label(…"
            ]
          },
          "metadata": {}
        },
        {
          "output_type": "display_data",
          "data": {
            "text/html": [
              ""
            ],
            "text/plain": [
              "<IPython.core.display.HTML object>"
            ]
          },
          "metadata": {}
        },
        {
          "output_type": "display_data",
          "data": {
            "text/html": [
              ""
            ],
            "text/plain": [
              "<IPython.core.display.HTML object>"
            ]
          },
          "metadata": {}
        }
      ]
    },
    {
      "cell_type": "code",
      "source": [
        ""
      ],
      "metadata": {
        "id": "62xBHWhQz8EM"
      },
      "execution_count": null,
      "outputs": []
    }
  ]
}